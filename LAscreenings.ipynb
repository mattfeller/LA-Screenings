{
 "cells": [
  {
   "cell_type": "markdown",
   "metadata": {},
   "source": [
    "HOW TO USE: User input is contain in this first python cell below. Edit the starting_urls to the urls of whichever letterboxd watchlists or lists you are interested in exploring. You can add as many urls as you would like to the list.\n",
    "\n",
    "Once you have edited the starting_urls, simply hit \"run all\" and then scroll down to the bottom to see the results."
   ]
  },
  {
   "cell_type": "code",
   "execution_count": 1,
   "metadata": {},
   "outputs": [],
   "source": [
    "starting_urls = ['https://letterboxd.com/fella/watchlist/', 'https://letterboxd.com/fella/films/rated/4-5/']"
   ]
  },
  {
   "cell_type": "markdown",
   "metadata": {},
   "source": [
    "# Do not edit below this point."
   ]
  },
  {
   "cell_type": "markdown",
   "metadata": {},
   "source": [
    "Import modules"
   ]
  },
  {
   "cell_type": "code",
   "execution_count": 2,
   "metadata": {},
   "outputs": [],
   "source": [
    "from urllib.request import urlopen, Request\n",
    "import re\n",
    "from datetime import datetime\n",
    "from thefuzz import process, fuzz"
   ]
  },
  {
   "cell_type": "markdown",
   "metadata": {},
   "source": [
    "## Scraping Revival Hub"
   ]
  },
  {
   "cell_type": "markdown",
   "metadata": {},
   "source": [
    "Create list of next three months and their corresponding years. For example, if the current month is november 2024, then months = [11, 12, 1] and years = [2024, 2024, 2025]. We use these below to create the required urls."
   ]
  },
  {
   "cell_type": "code",
   "execution_count": 3,
   "metadata": {},
   "outputs": [
    {
     "data": {
      "text/plain": [
       "([1, 2, 3], [2024, 2024, 2024])"
      ]
     },
     "execution_count": 3,
     "metadata": {},
     "output_type": "execute_result"
    }
   ],
   "source": [
    "current_month = datetime.now().month\n",
    "current_year = datetime.now().year\n",
    "\n",
    "months = [((current_month + i-1) % 12) + 1 for i in range(3)]\n",
    "\n",
    "years = [current_year for i in range(3)]\n",
    "\n",
    "if current_month >= 11:\n",
    "    years[2] = current_year + 1\n",
    "    if current_month == 12:\n",
    "        years[1] = current_year + 1\n",
    "\n",
    "months, years"
   ]
  },
  {
   "cell_type": "markdown",
   "metadata": {},
   "source": [
    "We now create the urls and save the html code from those pages."
   ]
  },
  {
   "cell_type": "code",
   "execution_count": 4,
   "metadata": {},
   "outputs": [],
   "source": [
    "def make_url(month, year):\n",
    "    month_str = str(month)\n",
    "    month_str = month_str.rjust(2, '0')\n",
    "    year_str = str(year)\n",
    "    url = 'https://www.revivalhubla.com/film-calendar?view=calendar&month=' + month_str + '-' + year_str\n",
    "    return url\n",
    "\n",
    "urls = [make_url(month, year) for month, year in zip(months, years)]\n",
    "pages = [urlopen(url) for url in urls]\n",
    "htmls = [page.read().decode(\"utf-8\") for page in pages]"
   ]
  },
  {
   "cell_type": "markdown",
   "metadata": {},
   "source": [
    "The movie titles in the html for Revival Hub's calendar page are between h1 html tags, so we find all instances of that pattern and remove the extraneous html from each, leaving a list of strings containing the movie titles and release years."
   ]
  },
  {
   "cell_type": "code",
   "execution_count": 5,
   "metadata": {},
   "outputs": [],
   "source": [
    "pattern = \"<h1>.*?</h1>\"\n",
    "results = [re.findall(pattern, html) for html in htmls]\n",
    "\n",
    "def extract_text(line):\n",
    "    html_chunks = re.findall(\"<.*?>\", line)\n",
    "    for chunk in html_chunks:\n",
    "        line = line.replace(chunk, '')\n",
    "    return line\n",
    "\n",
    "def extract_info_link(line):\n",
    "    link_pattern = '<a href=\".*?\">'\n",
    "    res = re.findall(link_pattern, line)\n",
    "    info_link = res[0].replace('<a href=\"','').replace('\">','')\n",
    "    url = 'https://www.revivalhubla.com' + info_link\n",
    "    date = url.replace('https://www.revivalhubla.com/film-calendar/','')\n",
    "    for i in range(10):\n",
    "        si = str(i)\n",
    "        toreplace = '/' + si + '/'\n",
    "        replacewith = '/0' + si + '/'\n",
    "        date = date.replace(toreplace, replacewith)\n",
    "    date = date[:10]\n",
    "    return url, date\n",
    "\n",
    "titles = [list(map(extract_text, result)) for result in results]\n",
    "dates_and_links = [list(map(extract_info_link, result)) for result in results]"
   ]
  },
  {
   "cell_type": "markdown",
   "metadata": {},
   "source": [
    "## Scraping Letterboxd"
   ]
  },
  {
   "cell_type": "markdown",
   "metadata": {},
   "source": [
    "In case the starting_url is on page n > 1 of the given list, we remove page/n/ from the urls to start with page 1 instead."
   ]
  },
  {
   "cell_type": "code",
   "execution_count": 6,
   "metadata": {},
   "outputs": [],
   "source": [
    "num_of_urls = len(starting_urls)\n",
    "\n",
    "for i in range(num_of_urls):\n",
    "    while 'page/' in starting_urls[i]:\n",
    "        starting_urls[i] = re.sub('page/.*/', '', starting_urls[i])"
   ]
  },
  {
   "cell_type": "markdown",
   "metadata": {},
   "source": [
    "Letterboxd was not happy with the default user agent in urlopen, so we have to spoof a user browser to scrape from there."
   ]
  },
  {
   "cell_type": "code",
   "execution_count": 7,
   "metadata": {},
   "outputs": [],
   "source": [
    "headers = {'User-Agent': 'Mozilla/5.0 (Windows NT 6.1) AppleWebKit/537.36 (KHTML, like Gecko) Chrome/41.0.2228.0 Safari/537.3'}\n",
    "reqs = [Request(url=starting_url, headers=headers) for starting_url in starting_urls]\n",
    "first_htmls = [urlopen(req).read().decode(\"utf-8\") for req in reqs]"
   ]
  },
  {
   "cell_type": "markdown",
   "metadata": {},
   "source": [
    "first_htmls only contains the first page, containing up to 100 movies, of each list. We start by extracting the total number of pages."
   ]
  },
  {
   "cell_type": "code",
   "execution_count": 8,
   "metadata": {},
   "outputs": [],
   "source": [
    "pattern_pages = '<div class=\"pagination\">.*?</div> </div>'\n",
    "result_pages = [re.findall(pattern_pages, first_html) for first_html in first_htmls]\n",
    "\n",
    "def extract_page_number(text):\n",
    "    if '&hellip;' in text:\n",
    "        str_num = text.split('&hellip;')[-1]\n",
    "    else:\n",
    "        str_num = text.split()[-1]\n",
    "    num = int(str_num)\n",
    "    return num\n",
    "\n",
    "page_count = [1 for i in range(num_of_urls)]\n",
    "\n",
    "for i in range(num_of_urls):    \n",
    "    if result_pages[i]:\n",
    "        pages_text = extract_text(result_pages[i][0])\n",
    "        page_count[i] = extract_page_number(pages_text)"
   ]
  },
  {
   "cell_type": "markdown",
   "metadata": {},
   "source": [
    "Now that we have the page_count, get the html code for each remaining page, combining these with the first html pages."
   ]
  },
  {
   "cell_type": "code",
   "execution_count": 9,
   "metadata": {},
   "outputs": [],
   "source": [
    "remaining_urls = []\n",
    "\n",
    "for j in range(num_of_urls):\n",
    "    remaining_urls += [starting_urls[j] + 'page/' + str(i) + '/' for i in range(2, page_count[j] + 1)]\n",
    "\n",
    "remaining_reqs = [Request(url=rem_url, headers=headers) for rem_url in remaining_urls]\n",
    "remaining_htmls = [urlopen(req).read().decode(\"utf-8\") for req in remaining_reqs]"
   ]
  },
  {
   "cell_type": "code",
   "execution_count": 10,
   "metadata": {},
   "outputs": [],
   "source": [
    "mega_html = ''\n",
    "\n",
    "for html in first_htmls + remaining_htmls:\n",
    "    mega_html = mega_html + html"
   ]
  },
  {
   "cell_type": "markdown",
   "metadata": {},
   "source": [
    "We now extract the movie titles from this mega_html string."
   ]
  },
  {
   "cell_type": "code",
   "execution_count": 11,
   "metadata": {},
   "outputs": [],
   "source": [
    "letterboxd_title_pattern = 'data-film-slug=\".*?\"'\n",
    "slugs = re.findall(letterboxd_title_pattern, mega_html)\n",
    "all_movies = [slug.replace('data-film-slug=\"','').replace('\"','') for slug in slugs]"
   ]
  },
  {
   "cell_type": "markdown",
   "metadata": {},
   "source": [
    "## Comparing all_movies and titles"
   ]
  },
  {
   "cell_type": "code",
   "execution_count": 12,
   "metadata": {},
   "outputs": [],
   "source": [
    "def find_matches(revival_titles, letterboxd_movies):\n",
    "    matches = []\n",
    "    for movie in letterboxd_movies:\n",
    "        new_match = process.extractOne(movie, revival_titles, score_cutoff=86)\n",
    "        if new_match:\n",
    "            matches.append(new_match)\n",
    "    return matches"
   ]
  },
  {
   "cell_type": "code",
   "execution_count": 13,
   "metadata": {},
   "outputs": [],
   "source": [
    "this_month = [x[0] for x in find_matches(titles[0], all_movies)]\n",
    "next_month = [x[0] for x in find_matches(titles[1], all_movies)]\n",
    "month_after = [x[0] for x in find_matches(titles[2], all_movies)]"
   ]
  },
  {
   "cell_type": "code",
   "execution_count": 14,
   "metadata": {},
   "outputs": [],
   "source": [
    "def show_me(month_list, m):\n",
    "    indices = []\n",
    "    for s in month_list:\n",
    "        indices += [i for i, e in enumerate(titles[m]) if e == s]\n",
    "\n",
    "    mylist = list(zip(titles[m], dates_and_links[m]))\n",
    "    mylist = [x for e, x in enumerate(mylist) if e in indices]\n",
    "    mylist.sort(key=(lambda x: x[1][1]))\n",
    "\n",
    "    for s, (url, date) in mylist:\n",
    "        print(date, ' - ', s, ' - ', url)"
   ]
  },
  {
   "cell_type": "markdown",
   "metadata": {},
   "source": [
    "# RESULTS"
   ]
  },
  {
   "cell_type": "markdown",
   "metadata": {},
   "source": [
    "### This month"
   ]
  },
  {
   "cell_type": "code",
   "execution_count": 15,
   "metadata": {},
   "outputs": [
    {
     "name": "stdout",
     "output_type": "stream",
     "text": [
      "2024/01/18  -  Twin Peaks: Fire Walk with Me - 1992  -  https://www.revivalhubla.com/film-calendar/2024/1/18/twin-peaks-fire-walk-with-me\n",
      "2024/01/20  -  The Seventh Seal - 1957  -  https://www.revivalhubla.com/film-calendar/2024/1/20/seventh-seal\n",
      "2024/01/21  -  Yi Yi - 2000  -  https://www.revivalhubla.com/film-calendar/2024/01/21/yi-yi\n",
      "2024/01/22  -  Stranger Than Paradise - 1984  -  https://www.revivalhubla.com/film-calendar/2024/1/22/stranger-than-paradise\n",
      "2024/01/25  -  Taipei Story - 1985 / In Our Time - 1982  -  https://www.revivalhubla.com/film-calendar/2024/01/25/taipei-story-in-our-time\n",
      "2024/01/26  -  Frances Ha - 2013  -  https://www.revivalhubla.com/film-calendar/2024/1/26/frances-ha\n",
      "2024/01/26  -  Wings of Desire - 1987  -  https://www.revivalhubla.com/film-calendar/2024/01/26/wings-of-desire\n",
      "2024/01/26  -  In the Mood for Love - 2000 / Punch-Drunk Love - 2002  -  https://www.revivalhubla.com/film-calendar/2024/1/26/mood-punch\n",
      "2024/01/27  -  In the Mood for Love - 2000 / Punch-Drunk Love - 2002  -  https://www.revivalhubla.com/film-calendar/2024/1/27/mood-punch\n",
      "2024/01/27  -  Hoop Dreams - 1994  -  https://www.revivalhubla.com/film-calendar/2024/1/27/hoop-dreams\n",
      "2024/01/28  -  Yi Yi - 2000  -  https://www.revivalhubla.com/film-calendar/2024/01/28/yi-yi\n",
      "2024/01/28  -  In the Mood for Love - 2000 / Punch-Drunk Love - 2002  -  https://www.revivalhubla.com/film-calendar/2024/1/28/mood-punch\n",
      "2024/01/28  -  Chungking Express - 1994  -  https://www.revivalhubla.com/film-calendar/2024/1/28/chungking-express\n"
     ]
    }
   ],
   "source": [
    "show_me(this_month, 0)"
   ]
  },
  {
   "cell_type": "code",
   "execution_count": 16,
   "metadata": {},
   "outputs": [
    {
     "name": "stdout",
     "output_type": "stream",
     "text": [
      "2024/02/21  -  The Diving Bell and the Butterfly - 2007  -  https://www.revivalhubla.com/film-calendar/2024/2/21/the-diving-bell-and-the-butterfly\n"
     ]
    }
   ],
   "source": [
    "show_me(next_month, 1)"
   ]
  },
  {
   "cell_type": "code",
   "execution_count": 17,
   "metadata": {},
   "outputs": [],
   "source": [
    "show_me(month_after, 2)"
   ]
  }
 ],
 "metadata": {
  "kernelspec": {
   "display_name": ".venv",
   "language": "python",
   "name": "python3"
  },
  "language_info": {
   "codemirror_mode": {
    "name": "ipython",
    "version": 3
   },
   "file_extension": ".py",
   "mimetype": "text/x-python",
   "name": "python",
   "nbconvert_exporter": "python",
   "pygments_lexer": "ipython3",
   "version": "3.11.5"
  }
 },
 "nbformat": 4,
 "nbformat_minor": 2
}
